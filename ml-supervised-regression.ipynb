{
 "cells": [
  {
   "cell_type": "code",
   "execution_count": 90,
   "metadata": {},
   "outputs": [
    {
     "data": {
      "image/png": "[encoded data removed]",
      "text/plain": [
       "<Figure size 432x288 with 1 Axes>"
      ]
     },
     "metadata": {
      "needs_background": "light"
     },
     "output_type": "display_data"
    },
    {
     "name": "stdout",
     "output_type": "stream",
     "text": [
      "Coeffecients are: [1.09735968]\n",
      "Mean Squared Error :19332.133567\n",
      "R2:0.922409\n"
     ]
    }
   ],
   "source": [
    "import sklearn\n",
    "from sklearn.model_selection import train_test_split\n",
    "from sklearn import linear_model as lm\n",
    "from sklearn.metrics import mean_squared_error, r2_score\n",
    "\n",
    "import numpy as np\n",
    "import pandas as p\n",
    "import matplotlib.pyplot as plt\n",
    "\n",
    "#read the csv file which has the fictional marketing data and create a dataframe\n",
    "data=p.read_csv('./marketing.csv')\n",
    "\n",
    "#read the value of 'marketing spend' which in an independent variable called indep\n",
    "indep=data['Marketing Spend']\n",
    "\n",
    "#read the value of 'revenue' which in our case is a dependent variable called dep\n",
    "dep=data['Revenue']\n",
    "\n",
    "#convert the value of idependent variable to a 2-D array\n",
    "indep=indep.values.reshape(-1,1)\n",
    "\n",
    "#split the independent variable data into test and training data. Here 20% of data is being set aside as test data\n",
    "indep_train, indep_test, dep_train, dep_test = train_test_split(indep,dep,test_size=0.2, random_state=0)\n",
    "\n",
    "#initialize linear regression object\n",
    "regressor = lm.LinearRegression()\n",
    "\n",
    "#fit the training data into the linear model\n",
    "regressor.fit(indep_train,dep_train)\n",
    "\n",
    "fig = plt.figure()\n",
    "\n",
    "#draw a scatter plot which has 'training data for independent variable on X-axis' and 'predicted dependent data on Y-axis'\n",
    "plt.scatter(indep_train, regressor.predict(indep_train),c='g',linestyle='--')\n",
    "\n",
    "#draw a scatter plot which has 'training data for independent variable on X-axis' and 'actual dependent data on Y-axis'\n",
    "plt.scatter(indep_train, dep_train, c='r')\n",
    "\n",
    "plt.plot(indep_train, regressor.predict(indep_train),c='g',linewidth=3)\n",
    "\n",
    "plt.show()\n",
    "\n",
    "#Calculate RMSE (Root Mean Square Error)\n",
    "mse=np.sqrt(mean_squared_error(dep_test, regressor.predict(indep_test)))\n",
    "\n",
    "#Calculate variance\n",
    "r2 = r2_score(dep_test, regressor.predict(indep_test))\n",
    "\n",
    "print ('Coeffecients are:', regressor.coef_)\n",
    "print ('Mean Squared Error :%2f'%mse)\n",
    "print ('R2:%2f'%r2)"
   ]
  },
  {
   "cell_type": "code",
   "execution_count": null,
   "metadata": {},
   "outputs": [],
   "source": []
  },
  {
   "cell_type": "code",
   "execution_count": null,
   "metadata": {},
   "outputs": [],
   "source": []
  }
 ],
 "metadata": {
  "kernelspec": {
   "display_name": "Python 3",
   "language": "python",
   "name": "python3"
  },
  "language_info": {
   "codemirror_mode": {
    "name": "ipython",
    "version": 3
   },
   "file_extension": ".py",
   "mimetype": "text/x-python",
   "name": "python",
   "nbconvert_exporter": "python",
   "pygments_lexer": "ipython3",
   "version": "3.7.0"
  }
 },
 "nbformat": 4,
 "nbformat_minor": 2
}
